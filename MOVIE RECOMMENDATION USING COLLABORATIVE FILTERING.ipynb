{
 "cells": [
  {
   "cell_type": "code",
   "execution_count": 1,
   "id": "c0d3662c",
   "metadata": {},
   "outputs": [],
   "source": [
    "import pandas as pd\n",
    "import numpy as np\n",
    "import tensorflow as tf\n",
    "from tensorflow import keras\n",
    "from tensorflow.keras import layers\n",
    "from keras.models import Model, Sequential\n",
    "import matplotlib.pyplot as plt\n",
    "import pickle"
   ]
  },
  {
   "cell_type": "code",
   "execution_count": 2,
   "id": "633ba05a",
   "metadata": {},
   "outputs": [],
   "source": [
    "rating= pd.read_csv('ratings.csv')\n"
   ]
  },
  {
   "cell_type": "code",
   "execution_count": 3,
   "id": "b989e3ac",
   "metadata": {},
   "outputs": [
    {
     "data": {
      "text/html": [
       "<div>\n",
       "<style scoped>\n",
       "    .dataframe tbody tr th:only-of-type {\n",
       "        vertical-align: middle;\n",
       "    }\n",
       "\n",
       "    .dataframe tbody tr th {\n",
       "        vertical-align: top;\n",
       "    }\n",
       "\n",
       "    .dataframe thead th {\n",
       "        text-align: right;\n",
       "    }\n",
       "</style>\n",
       "<table border=\"1\" class=\"dataframe\">\n",
       "  <thead>\n",
       "    <tr style=\"text-align: right;\">\n",
       "      <th></th>\n",
       "      <th>userId</th>\n",
       "      <th>movieId</th>\n",
       "      <th>rating</th>\n",
       "      <th>timestamp</th>\n",
       "    </tr>\n",
       "  </thead>\n",
       "  <tbody>\n",
       "    <tr>\n",
       "      <th>0</th>\n",
       "      <td>1</td>\n",
       "      <td>1</td>\n",
       "      <td>4.0</td>\n",
       "      <td>964982703</td>\n",
       "    </tr>\n",
       "    <tr>\n",
       "      <th>1</th>\n",
       "      <td>1</td>\n",
       "      <td>3</td>\n",
       "      <td>4.0</td>\n",
       "      <td>964981247</td>\n",
       "    </tr>\n",
       "    <tr>\n",
       "      <th>2</th>\n",
       "      <td>1</td>\n",
       "      <td>6</td>\n",
       "      <td>4.0</td>\n",
       "      <td>964982224</td>\n",
       "    </tr>\n",
       "    <tr>\n",
       "      <th>3</th>\n",
       "      <td>1</td>\n",
       "      <td>47</td>\n",
       "      <td>5.0</td>\n",
       "      <td>964983815</td>\n",
       "    </tr>\n",
       "    <tr>\n",
       "      <th>4</th>\n",
       "      <td>1</td>\n",
       "      <td>50</td>\n",
       "      <td>5.0</td>\n",
       "      <td>964982931</td>\n",
       "    </tr>\n",
       "  </tbody>\n",
       "</table>\n",
       "</div>"
      ],
      "text/plain": [
       "   userId  movieId  rating  timestamp\n",
       "0       1        1     4.0  964982703\n",
       "1       1        3     4.0  964981247\n",
       "2       1        6     4.0  964982224\n",
       "3       1       47     5.0  964983815\n",
       "4       1       50     5.0  964982931"
      ]
     },
     "execution_count": 3,
     "metadata": {},
     "output_type": "execute_result"
    }
   ],
   "source": [
    "rating.head()"
   ]
  },
  {
   "cell_type": "code",
   "execution_count": 4,
   "id": "d8b3f798",
   "metadata": {},
   "outputs": [],
   "source": [
    "#extracts ids and converts it into a list, encodes id to index in list for user and movies\n",
    "user_ids = rating[\"userId\"].unique().tolist()\n",
    "user2user_encoded = {x: i for i, x in enumerate(user_ids)}\n",
    "userencoded2user = {i: x for i, x in enumerate(user_ids)}\n",
    "movie_ids = rating[\"movieId\"].unique().tolist()\n",
    "movie2movie_encoded = {x: i for i, x in enumerate(movie_ids)}\n",
    "movie_encoded2movie = {i: x for i, x in enumerate(movie_ids)}\n",
    "#adds encoded index columns to df\n",
    "rating[\"user\"] = rating[\"userId\"].map(user2user_encoded)\n",
    "rating[\"movie\"] = rating[\"movieId\"].map(movie2movie_encoded)"
   ]
  },
  {
   "cell_type": "code",
   "execution_count": 5,
   "id": "360271cb",
   "metadata": {},
   "outputs": [
    {
     "data": {
      "text/html": [
       "<div>\n",
       "<style scoped>\n",
       "    .dataframe tbody tr th:only-of-type {\n",
       "        vertical-align: middle;\n",
       "    }\n",
       "\n",
       "    .dataframe tbody tr th {\n",
       "        vertical-align: top;\n",
       "    }\n",
       "\n",
       "    .dataframe thead th {\n",
       "        text-align: right;\n",
       "    }\n",
       "</style>\n",
       "<table border=\"1\" class=\"dataframe\">\n",
       "  <thead>\n",
       "    <tr style=\"text-align: right;\">\n",
       "      <th></th>\n",
       "      <th>userId</th>\n",
       "      <th>movieId</th>\n",
       "      <th>rating</th>\n",
       "      <th>timestamp</th>\n",
       "      <th>user</th>\n",
       "      <th>movie</th>\n",
       "    </tr>\n",
       "  </thead>\n",
       "  <tbody>\n",
       "    <tr>\n",
       "      <th>0</th>\n",
       "      <td>1</td>\n",
       "      <td>1</td>\n",
       "      <td>4.0</td>\n",
       "      <td>964982703</td>\n",
       "      <td>0</td>\n",
       "      <td>0</td>\n",
       "    </tr>\n",
       "    <tr>\n",
       "      <th>1</th>\n",
       "      <td>1</td>\n",
       "      <td>3</td>\n",
       "      <td>4.0</td>\n",
       "      <td>964981247</td>\n",
       "      <td>0</td>\n",
       "      <td>1</td>\n",
       "    </tr>\n",
       "    <tr>\n",
       "      <th>2</th>\n",
       "      <td>1</td>\n",
       "      <td>6</td>\n",
       "      <td>4.0</td>\n",
       "      <td>964982224</td>\n",
       "      <td>0</td>\n",
       "      <td>2</td>\n",
       "    </tr>\n",
       "    <tr>\n",
       "      <th>3</th>\n",
       "      <td>1</td>\n",
       "      <td>47</td>\n",
       "      <td>5.0</td>\n",
       "      <td>964983815</td>\n",
       "      <td>0</td>\n",
       "      <td>3</td>\n",
       "    </tr>\n",
       "    <tr>\n",
       "      <th>4</th>\n",
       "      <td>1</td>\n",
       "      <td>50</td>\n",
       "      <td>5.0</td>\n",
       "      <td>964982931</td>\n",
       "      <td>0</td>\n",
       "      <td>4</td>\n",
       "    </tr>\n",
       "  </tbody>\n",
       "</table>\n",
       "</div>"
      ],
      "text/plain": [
       "   userId  movieId  rating  timestamp  user  movie\n",
       "0       1        1     4.0  964982703     0      0\n",
       "1       1        3     4.0  964981247     0      1\n",
       "2       1        6     4.0  964982224     0      2\n",
       "3       1       47     5.0  964983815     0      3\n",
       "4       1       50     5.0  964982931     0      4"
      ]
     },
     "execution_count": 5,
     "metadata": {},
     "output_type": "execute_result"
    }
   ],
   "source": [
    "rating.head()"
   ]
  },
  {
   "cell_type": "code",
   "execution_count": 6,
   "id": "415b5461",
   "metadata": {},
   "outputs": [
    {
     "name": "stdout",
     "output_type": "stream",
     "text": [
      "Number of users: 610, Number of Movies: 9724, Min rating: 0.5, Max rating: 5.0\n"
     ]
    }
   ],
   "source": [
    "num_users = len(user2user_encoded)\n",
    "num_movies = len(movie2movie_encoded)\n",
    "rating[\"rating\"] = rating[\"rating\"].values.astype(np.float32)\n",
    "# min and max ratings will be used to normalize the ratings later\n",
    "min_rating = min(rating[\"rating\"])\n",
    "max_rating = max(rating[\"rating\"])\n",
    "\n",
    "print(\n",
    "    \"Number of users: {}, Number of Movies: {}, Min rating: {}, Max rating: {}\".format(\n",
    "        num_users, num_movies, min_rating, max_rating))"
   ]
  },
  {
   "cell_type": "code",
   "execution_count": 7,
   "id": "189378db",
   "metadata": {},
   "outputs": [],
   "source": [
    "#Random Train-Test split\n",
    "df = rating.sample(frac=1, random_state=42) # randomly shuffles dataset to ensure that model does not learn patterns specific to the data order\n",
    "x = df[[\"user\", \"movie\"]].values\n",
    "# Normalize the targets between 0 and 1. Makes it easy to train.\n",
    "y = df[\"rating\"].apply(lambda x: (x - min_rating) / (max_rating - min_rating)).values\n",
    "# Assuming training on 90% of the data and validating on 10%.\n",
    "train_indices = int(0.9 * df.shape[0])\n",
    "x_train, x_val, y_train, y_val = (\n",
    "    x[:train_indices],\n",
    "    x[train_indices:],\n",
    "    y[:train_indices],\n",
    "    y[train_indices:],\n",
    ")"
   ]
  },
  {
   "cell_type": "code",
   "execution_count": 8,
   "id": "47d3347a",
   "metadata": {},
   "outputs": [
    {
     "data": {
      "text/plain": [
       "(90752, 2)"
      ]
     },
     "execution_count": 8,
     "metadata": {},
     "output_type": "execute_result"
    }
   ],
   "source": [
    "x_train.shape\n",
    "\n"
   ]
  },
  {
   "cell_type": "code",
   "execution_count": 9,
   "id": "758bc24e",
   "metadata": {},
   "outputs": [
    {
     "data": {
      "text/plain": [
       "(90752,)"
      ]
     },
     "execution_count": 9,
     "metadata": {},
     "output_type": "execute_result"
    }
   ],
   "source": [
    "y_train.shape"
   ]
  },
  {
   "cell_type": "code",
   "execution_count": 10,
   "id": "c5eafee3",
   "metadata": {},
   "outputs": [],
   "source": [
    "#defining the model\n",
    "embedding_size = 50\n",
    "\n",
    "#vectors capture the underlying preferences of users and the characteristics of movies.\n",
    "user_ips= layers.Input(shape=[1])\n",
    "user_embedding = layers.Embedding(num_users,embedding_size)(user_ips)\n",
    "# Embedding layer will create 610 vectors look-up table of 50 dimension each\n",
    "user_vect= layers.Flatten()(user_embedding)\n",
    "\n",
    "movie_ips= layers.Input(shape=[1])\n",
    "movie_embedding = layers.Embedding(num_movies, embedding_size)(movie_ips)\n",
    "movie_vect= layers.Flatten()(movie_embedding)\n",
    "\n",
    "#calculates the dot product\n",
    "prod = layers.dot(inputs=[user_vect, movie_vect],axes=1)\n",
    "\n",
    "dense1= layers.Dense(150, activation='relu')(prod)\n",
    "dense2= layers.Dense(50, activation='relu')(dense1)\n",
    "dense3= layers.Dense(1,activation='relu')(dense2)\n",
    "\n",
    "#compiling model\n",
    "model = Model([user_ips, movie_ips], dense3)\n",
    "model.compile(optimizer='adam',loss='mean_squared_error')"
   ]
  },
  {
   "cell_type": "code",
   "execution_count": 11,
   "id": "1e0dcb12",
   "metadata": {},
   "outputs": [
    {
     "name": "stdout",
     "output_type": "stream",
     "text": [
      "Epoch 1/10\n",
      "1418/1418 [==============================] - 26s 17ms/step - loss: 0.0525\n",
      "Epoch 2/10\n",
      "1418/1418 [==============================] - 28s 20ms/step - loss: 0.0230\n",
      "Epoch 3/10\n",
      "1418/1418 [==============================] - 27s 19ms/step - loss: 0.0120\n",
      "Epoch 4/10\n",
      "1418/1418 [==============================] - 35s 25ms/step - loss: 0.0083\n",
      "Epoch 5/10\n",
      "1418/1418 [==============================] - 24s 17ms/step - loss: 0.0069\n",
      "Epoch 6/10\n",
      "1418/1418 [==============================] - 29s 20ms/step - loss: 0.0059\n",
      "Epoch 7/10\n",
      "1418/1418 [==============================] - 29s 20ms/step - loss: 0.0051\n",
      "Epoch 8/10\n",
      "1418/1418 [==============================] - 22s 15ms/step - loss: 0.0045\n",
      "Epoch 9/10\n",
      "1418/1418 [==============================] - 22s 15ms/step - loss: 0.0040\n",
      "Epoch 10/10\n",
      "1418/1418 [==============================] - 28s 20ms/step - loss: 0.0037\n"
     ]
    }
   ],
   "source": [
    "history = model.fit([x_train[:,0], x_train[:,1]], y_train, batch_size=64,epochs=10,verbose=1)"
   ]
  },
  {
   "cell_type": "code",
   "execution_count": 12,
   "id": "19726acd",
   "metadata": {},
   "outputs": [
    {
     "name": "stderr",
     "output_type": "stream",
     "text": [
      "c:\\Users\\user\\anaconda3\\Lib\\site-packages\\keras\\src\\engine\\training.py:3079: UserWarning: You are saving your model as an HDF5 file via `model.save()`. This file format is considered legacy. We recommend using instead the native Keras format, e.g. `model.save('my_model.keras')`.\n",
      "  saving_api.save_model(\n"
     ]
    }
   ],
   "source": [
    "# Save the Model in the native Keras format\n",
    "model.save('movie_recommendation_model.h5')  # Replace with desired filename\n",
    "\n"
   ]
  },
  {
   "cell_type": "code",
   "execution_count": 16,
   "id": "8678a108",
   "metadata": {},
   "outputs": [
    {
     "name": "stdout",
     "output_type": "stream",
     "text": [
      "1/1 [==============================] - 0s 398ms/step\n"
     ]
    },
    {
     "data": {
      "text/plain": [
       "array([[0.7826633]], dtype=float32)"
      ]
     },
     "execution_count": 16,
     "metadata": {},
     "output_type": "execute_result"
    }
   ],
   "source": [
    "pred=model.predict([x_train[4:5,0], x_train[4:5,1]])\n",
    "pred"
   ]
  },
  {
   "cell_type": "code",
   "execution_count": 17,
   "id": "430f1028",
   "metadata": {},
   "outputs": [],
   "source": [
    "movie_df = pd.read_csv('movies.csv')"
   ]
  },
  {
   "cell_type": "code",
   "execution_count": 18,
   "id": "dceb99a0",
   "metadata": {},
   "outputs": [],
   "source": [
    "user_id = df.userId.sample(1).iloc[0]\n",
    "movies_watched_by_user = df[df.userId == user_id]\n",
    "movies_not_watched = movie_df[ ~movie_df[\"movieId\"].isin(movies_watched_by_user.movieId.values)][\"movieId\"]"
   ]
  },
  {
   "cell_type": "code",
   "execution_count": 19,
   "id": "f7b70c8c",
   "metadata": {},
   "outputs": [
    {
     "data": {
      "text/plain": [
       "561"
      ]
     },
     "execution_count": 19,
     "metadata": {},
     "output_type": "execute_result"
    }
   ],
   "source": [
    "user_id"
   ]
  },
  {
   "cell_type": "code",
   "execution_count": 20,
   "id": "0eeb3df1",
   "metadata": {},
   "outputs": [
    {
     "data": {
      "text/html": [
       "<div>\n",
       "<style scoped>\n",
       "    .dataframe tbody tr th:only-of-type {\n",
       "        vertical-align: middle;\n",
       "    }\n",
       "\n",
       "    .dataframe tbody tr th {\n",
       "        vertical-align: top;\n",
       "    }\n",
       "\n",
       "    .dataframe thead th {\n",
       "        text-align: right;\n",
       "    }\n",
       "</style>\n",
       "<table border=\"1\" class=\"dataframe\">\n",
       "  <thead>\n",
       "    <tr style=\"text-align: right;\">\n",
       "      <th></th>\n",
       "      <th>userId</th>\n",
       "      <th>movieId</th>\n",
       "      <th>rating</th>\n",
       "      <th>timestamp</th>\n",
       "      <th>user</th>\n",
       "      <th>movie</th>\n",
       "    </tr>\n",
       "  </thead>\n",
       "  <tbody>\n",
       "    <tr>\n",
       "      <th>86670</th>\n",
       "      <td>561</td>\n",
       "      <td>1278</td>\n",
       "      <td>3.5</td>\n",
       "      <td>1491094620</td>\n",
       "      <td>560</td>\n",
       "      <td>87</td>\n",
       "    </tr>\n",
       "    <tr>\n",
       "      <th>86688</th>\n",
       "      <td>561</td>\n",
       "      <td>1394</td>\n",
       "      <td>4.0</td>\n",
       "      <td>1491092758</td>\n",
       "      <td>560</td>\n",
       "      <td>1474</td>\n",
       "    </tr>\n",
       "    <tr>\n",
       "      <th>87049</th>\n",
       "      <td>561</td>\n",
       "      <td>106002</td>\n",
       "      <td>2.5</td>\n",
       "      <td>1491091525</td>\n",
       "      <td>560</td>\n",
       "      <td>3103</td>\n",
       "    </tr>\n",
       "    <tr>\n",
       "      <th>86999</th>\n",
       "      <td>561</td>\n",
       "      <td>79132</td>\n",
       "      <td>3.5</td>\n",
       "      <td>1491091990</td>\n",
       "      <td>560</td>\n",
       "      <td>244</td>\n",
       "    </tr>\n",
       "    <tr>\n",
       "      <th>86748</th>\n",
       "      <td>561</td>\n",
       "      <td>2403</td>\n",
       "      <td>4.5</td>\n",
       "      <td>1491092025</td>\n",
       "      <td>560</td>\n",
       "      <td>1863</td>\n",
       "    </tr>\n",
       "  </tbody>\n",
       "</table>\n",
       "</div>"
      ],
      "text/plain": [
       "       userId  movieId  rating   timestamp  user  movie\n",
       "86670     561     1278     3.5  1491094620   560     87\n",
       "86688     561     1394     4.0  1491092758   560   1474\n",
       "87049     561   106002     2.5  1491091525   560   3103\n",
       "86999     561    79132     3.5  1491091990   560    244\n",
       "86748     561     2403     4.5  1491092025   560   1863"
      ]
     },
     "execution_count": 20,
     "metadata": {},
     "output_type": "execute_result"
    }
   ],
   "source": [
    "movies_watched_by_user.head()"
   ]
  },
  {
   "cell_type": "code",
   "execution_count": 21,
   "id": "41ef56de",
   "metadata": {},
   "outputs": [],
   "source": [
    "## basically inner join between movies_not_watched and movie ids from df table (to be sure that the movie ids are not out of scope)\n",
    "movies_not_watched = list(\n",
    "    set(movies_not_watched).intersection(set(movie2movie_encoded.keys()))\n",
    ")"
   ]
  },
  {
   "cell_type": "code",
   "execution_count": 22,
   "id": "f4d99c88",
   "metadata": {},
   "outputs": [],
   "source": [
    "movies_not_watched_index = [[movie2movie_encoded.get(x)] for x in movies_not_watched]  # get the indexes of the movies not watched by the user"
   ]
  },
  {
   "cell_type": "code",
   "execution_count": 23,
   "id": "803421ef",
   "metadata": {},
   "outputs": [
    {
     "data": {
      "text/plain": [
       "560"
      ]
     },
     "execution_count": 23,
     "metadata": {},
     "output_type": "execute_result"
    }
   ],
   "source": [
    "user_encoder = user2user_encoded.get(user_id)\n",
    "user_encoder"
   ]
  },
  {
   "cell_type": "code",
   "execution_count": 24,
   "id": "ee0af6ab",
   "metadata": {},
   "outputs": [
    {
     "data": {
      "text/plain": [
       "array([[ 560, 5804],\n",
       "       [ 560,    1],\n",
       "       [ 560,  482],\n",
       "       ...,\n",
       "       [ 560, 3870],\n",
       "       [ 560, 2989],\n",
       "       [ 560, 7869]])"
      ]
     },
     "execution_count": 24,
     "metadata": {},
     "output_type": "execute_result"
    }
   ],
   "source": [
    "user_movie_array = np.hstack(([[user_encoder]] * len(movies_not_watched), movies_not_watched_index))\n",
    "user_movie_array ## 1st column is user_index and 2nd col is the list of movie indexes not watched by the user"
   ]
  },
  {
   "cell_type": "code",
   "execution_count": 25,
   "id": "b6dfaaca",
   "metadata": {},
   "outputs": [
    {
     "name": "stdout",
     "output_type": "stream",
     "text": [
      "289/289 [==============================] - 2s 4ms/step\n"
     ]
    },
    {
     "data": {
      "text/plain": [
       "array([0.68421036, 0.5925073 , 0.5387807 , ..., 0.60830903, 0.67212945,\n",
       "       0.5878357 ], dtype=float32)"
      ]
     },
     "execution_count": 25,
     "metadata": {},
     "output_type": "execute_result"
    }
   ],
   "source": [
    "\n",
    "ratings = model.predict([user_movie_array[:,0],user_movie_array[:,1]]).flatten()\n",
    "ratings"
   ]
  },
  {
   "cell_type": "code",
   "execution_count": 28,
   "id": "bf623145",
   "metadata": {},
   "outputs": [],
   "source": [
    "top_ratings_indices = ratings.argsort()[-10:][::-1] # indices of highest 10 ratings"
   ]
  },
  {
   "cell_type": "code",
   "execution_count": 29,
   "id": "86e5829b",
   "metadata": {},
   "outputs": [],
   "source": [
    "recommended_movie_ids = [movie_encoded2movie.get(movies_not_watched_index[x][0]) for x in top_ratings_indices]"
   ]
  },
  {
   "cell_type": "code",
   "execution_count": 30,
   "id": "5b8a8b1a",
   "metadata": {},
   "outputs": [
    {
     "name": "stdout",
     "output_type": "stream",
     "text": [
      "Showing recommendations for user: 561\n",
      "====================================\n",
      "Movies with high ratings from user\n",
      "--------------------------------\n",
      "Princess Bride, The (1987) : Action|Adventure|Comedy|Fantasy|Romance\n",
      "Jaws (1975) : Action|Horror\n",
      "Ghostbusters (a.k.a. Ghost Busters) (1984) : Action|Comedy|Sci-Fi\n",
      "Predator (1987) : Action|Sci-Fi|Thriller\n",
      "WALL·E (2008) : Adventure|Animation|Children|Romance|Sci-Fi\n"
     ]
    }
   ],
   "source": [
    "print(\"Showing recommendations for user: {}\".format(user_id))\n",
    "print(\"====\" * 9)\n",
    "print(\"Movies with high ratings from user\")\n",
    "print(\"----\" * 8)\n",
    "top_movies_user = (\n",
    "    movies_watched_by_user.sort_values(by=\"rating\", ascending=False)\n",
    "    .head(5)\n",
    "    .movieId.values\n",
    ")\n",
    "movie_df_rows = movie_df[movie_df[\"movieId\"].isin(top_movies_user)]\n",
    "for row in movie_df_rows.itertuples():\n",
    "    print(row.title, \":\", row.genres)"
   ]
  },
  {
   "cell_type": "code",
   "execution_count": 31,
   "id": "2dc5ca57",
   "metadata": {},
   "outputs": [
    {
     "name": "stdout",
     "output_type": "stream",
     "text": [
      "--------------------------------\n",
      "Top 10 movie recommendations\n",
      "--------------------------------\n",
      "Blade Runner (1982) : Action|Sci-Fi|Thriller\n",
      "Monty Python's Life of Brian (1979) : Comedy\n",
      "Evil Dead II (Dead by Dawn) (1987) : Action|Comedy|Fantasy|Horror\n",
      "Gandhi (1982) : Drama\n",
      "Pi (1998) : Drama|Sci-Fi|Thriller\n",
      "Blazing Saddles (1974) : Comedy|Western\n",
      "Cowboy Bebop: The Movie (Cowboy Bebop: Tengoku no Tobira) (2001) : Action|Animation|Sci-Fi|Thriller\n",
      "Children of Men (2006) : Action|Adventure|Drama|Sci-Fi|Thriller\n",
      "Some Guy Who Kills People (2011) : Comedy|Thriller\n",
      "Pride and Prejudice and Zombies (2016) : Comedy|Horror|Romance|Thriller\n"
     ]
    }
   ],
   "source": [
    "print(\"----\" * 8)\n",
    "print(\"Top 10 movie recommendations\")\n",
    "print(\"----\" * 8)\n",
    "recommended_movies = movie_df[movie_df[\"movieId\"].isin(recommended_movie_ids)]\n",
    "for row in recommended_movies.itertuples():\n",
    "    print(row.title, \":\", row.genres)"
   ]
  },
  {
   "cell_type": "code",
   "execution_count": null,
   "id": "5198b3ff",
   "metadata": {},
   "outputs": [],
   "source": []
  }
 ],
 "metadata": {
  "kernelspec": {
   "display_name": "Python 3 (ipykernel)",
   "language": "python",
   "name": "python3"
  },
  "language_info": {
   "codemirror_mode": {
    "name": "ipython",
    "version": 3
   },
   "file_extension": ".py",
   "mimetype": "text/x-python",
   "name": "python",
   "nbconvert_exporter": "python",
   "pygments_lexer": "ipython3",
   "version": "3.11.4"
  }
 },
 "nbformat": 4,
 "nbformat_minor": 5
}
